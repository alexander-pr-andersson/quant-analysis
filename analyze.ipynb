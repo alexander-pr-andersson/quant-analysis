{
 "cells": [
  {
   "cell_type": "code",
   "execution_count": null,
   "id": "cba4bc8d",
   "metadata": {},
   "outputs": [],
   "source": [
    "import pandas as pd\n",
    "import yfinance as yf\n",
    "import numpy as np\n",
    "from matplotlib import pyplot as plt"
   ]
  },
  {
   "cell_type": "code",
   "execution_count": null,
   "id": "4777a868",
   "metadata": {},
   "outputs": [],
   "source": [
    "\n",
    "start_date = '2000-01-01'\n",
    "end_date = '2025-05-28'\n",
    "tickers = ['MSFT', 'AMZN', 'GOOG', 'AAPL']\n",
    "stock_data = yf.download(tickers, start_date, end_date)"
   ]
  },
  {
   "cell_type": "code",
   "execution_count": null,
   "id": "0c3b433f",
   "metadata": {},
   "outputs": [],
   "source": [
    "def create_new_multilevel_index(name, cols):\n",
    "    return pd.MultiIndex.from_product([[name], cols])\n",
    "\n",
    "def flatten_df(df):\n",
    "    df = df.loc[:, ('Close')].reset_index()\n",
    "    df.columns = ['Date', 'Close']\n",
    "    df = df.set_index('Date')\n",
    "    return df\n",
    "\n",
    "def calculate_drawdown_full(df):\n",
    "    df = flatten_df(df)\n",
    "    df['log_return'] = np.log(df.div(df.shift(1)))\n",
    "    df = df.dropna()\n",
    "    df.loc[:, 'cum_return'] = df['log_return'].cumsum().apply(np.exp)\n",
    "    df['cum_max'] = df['cum_return'].cummax()\n",
    "    df['drawdown'] = df['cum_max'] - df['cum_return']\n",
    "    df['drawdown_pct'] = (df['cum_max'] - df['cum_return']) / df['cum_max']\n",
    "\n",
    "    return df\n",
    "\n",
    "def calculate_normalized_close(df):\n",
    "    df = df['Close'].div(df['Close'].iloc[0]).mul(100)\n",
    "    df.columns = create_new_multilevel_index('Norm_close', df.columns)\n",
    "    return df\n",
    "\n",
    "def calculate_pct_change(df):\n",
    "    df = df.pct_change()\n",
    "    df.columns = create_new_multilevel_index('Pct_change', df.columns)\n",
    "    return df\n",
    "\n",
    "def calculate_daily_return(df):\n",
    "    df = df.diff()\n",
    "    df.columns = pd.MultiIndex.from_product([['Change'], df.columns])\n",
    "    return df\n",
    "\n",
    "def calculate_log_return(df):\n",
    "    df = np.log(df.div(df.shift(1)))\n",
    "    df.columns = pd.MultiIndex.from_product([['log_return'], df.columns])\n",
    "    return df\n",
    "\n",
    "def calculate_cum_return(df):\n",
    "    df.columns = df.columns.droplevel()\n",
    "    df = df.cumsum().apply(np.exp)\n",
    "    df.columns = pd.MultiIndex.from_product([['cum_return'], df.columns])\n",
    "    return df\n",
    "\n",
    "def calculate_cum_max(df):\n",
    "    df.columns = df.columns.droplevel()\n",
    "    df = df.cummax()\n",
    "    df.columns = pd.MultiIndex.from_product([['cum_max'], df.columns])\n",
    "    return df\n",
    "\n",
    "def calculate_drawdown(df1, df2):\n",
    "    df = df1['cum_max'] - df2['cum_return']\n",
    "    df.columns = pd.MultiIndex.from_product([['drawdown'], df.columns])\n",
    "    return df\n",
    "\n",
    "def calculate_drawdown_percentage(df1, df2):\n",
    "    df = (df1['cum_max'] - df2['cum_return']) / df1['cum_max']\n",
    "    df.columns = pd.MultiIndex.from_product([['drawdown_percent'], df.columns])\n",
    "    return df\n",
    "\n",
    "def transform_df(df):\n",
    "    normalized_close_df = calculate_normalized_close(df)\n",
    "    pct_change_df = calculate_pct_change(df['Close'])\n",
    "    daily_change_df = calculate_daily_return(df['Close'])\n",
    "    log_return_df = calculate_log_return(df['Close'])\n",
    "    cum_return_df = calculate_cum_return(log_return_df.copy())\n",
    "    cum_max_df = calculate_cum_max(cum_return_df.copy())\n",
    "    drawdown_df = calculate_drawdown(cum_max_df, cum_return_df)\n",
    "    drawdown_percentage_df = calculate_drawdown_percentage(cum_max_df, cum_return_df)\n",
    "    # Merge\n",
    "    df = df.join(normalized_close_df).join(pct_change_df).join(daily_change_df).join(log_return_df).join(cum_return_df).join(cum_max_df).join(drawdown_df).join(drawdown_percentage_df)\n",
    "    return df\n",
    "\n",
    "def retrive_single_ticker(df, ticker):\n",
    "    return df.xs(ticker, level=1, axis=1)"
   ]
  },
  {
   "cell_type": "code",
   "execution_count": null,
   "id": "0a451f32",
   "metadata": {},
   "outputs": [],
   "source": [
    "df = transform_df(stock_data)\n",
    "df"
   ]
  },
  {
   "cell_type": "code",
   "execution_count": null,
   "id": "fb567972",
   "metadata": {},
   "outputs": [],
   "source": [
    "amazon = retrive_single_ticker(df, 'AMZN')\n",
    "amazon[['cum_return', 'cum_max']].plot(figsize=(12, 8))\n",
    "print(\"Maximum drawdown percent:\", amazon['drawdown_percent'].max(), \"\\nDate:\", amazon['drawdown_percent'].idxmax())"
   ]
  }
 ],
 "metadata": {
  "kernelspec": {
   "display_name": ".venv",
   "language": "python",
   "name": "python3"
  },
  "language_info": {
   "codemirror_mode": {
    "name": "ipython",
    "version": 3
   },
   "file_extension": ".py",
   "mimetype": "text/x-python",
   "name": "python",
   "nbconvert_exporter": "python",
   "pygments_lexer": "ipython3",
   "version": "3.12.3"
  }
 },
 "nbformat": 4,
 "nbformat_minor": 5
}

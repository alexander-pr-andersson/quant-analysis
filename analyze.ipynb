{
 "cells": [
  {
   "cell_type": "code",
   "execution_count": 1,
   "id": "cba4bc8d",
   "metadata": {},
   "outputs": [],
   "source": [
    "import pandas as pd\n",
    "import yfinance as yf\n",
    "import numpy as np\n",
    "from matplotlib import pyplot as plt\n",
    "\n",
    "import functions"
   ]
  },
  {
   "cell_type": "code",
   "execution_count": 2,
   "id": "4777a868",
   "metadata": {},
   "outputs": [
    {
     "name": "stdout",
     "output_type": "stream",
     "text": [
      "YF.download() has changed argument auto_adjust default to True\n"
     ]
    },
    {
     "name": "stderr",
     "output_type": "stream",
     "text": [
      "[*********************100%***********************]  4 of 4 completed\n"
     ]
    }
   ],
   "source": [
    "\n",
    "start_date = '2000-01-01'\n",
    "end_date = '2025-06-14'\n",
    "tickers = ['MSFT', 'AMZN', 'GOOG', 'AAPL']\n",
    "stock_data = yf.download(tickers, start_date, end_date)"
   ]
  },
  {
   "cell_type": "code",
   "execution_count": 3,
   "id": "0a451f32",
   "metadata": {},
   "outputs": [
    {
     "data": {
      "text/html": [
       "<div>\n",
       "<style scoped>\n",
       "    .dataframe tbody tr th:only-of-type {\n",
       "        vertical-align: middle;\n",
       "    }\n",
       "\n",
       "    .dataframe tbody tr th {\n",
       "        vertical-align: top;\n",
       "    }\n",
       "\n",
       "    .dataframe thead tr th {\n",
       "        text-align: left;\n",
       "    }\n",
       "\n",
       "    .dataframe thead tr:last-of-type th {\n",
       "        text-align: right;\n",
       "    }\n",
       "</style>\n",
       "<table border=\"1\" class=\"dataframe\">\n",
       "  <thead>\n",
       "    <tr>\n",
       "      <th></th>\n",
       "      <th colspan=\"4\" halign=\"left\">Close</th>\n",
       "      <th colspan=\"4\" halign=\"left\">High</th>\n",
       "      <th colspan=\"2\" halign=\"left\">Low</th>\n",
       "      <th>...</th>\n",
       "      <th colspan=\"2\" halign=\"left\">cum_max</th>\n",
       "      <th colspan=\"4\" halign=\"left\">drawdown</th>\n",
       "      <th colspan=\"4\" halign=\"left\">drawdown_percent</th>\n",
       "    </tr>\n",
       "    <tr>\n",
       "      <th>Ticker</th>\n",
       "      <th>AAPL</th>\n",
       "      <th>AMZN</th>\n",
       "      <th>GOOG</th>\n",
       "      <th>MSFT</th>\n",
       "      <th>AAPL</th>\n",
       "      <th>AMZN</th>\n",
       "      <th>GOOG</th>\n",
       "      <th>MSFT</th>\n",
       "      <th>AAPL</th>\n",
       "      <th>AMZN</th>\n",
       "      <th>...</th>\n",
       "      <th>GOOG</th>\n",
       "      <th>MSFT</th>\n",
       "      <th>AAPL</th>\n",
       "      <th>AMZN</th>\n",
       "      <th>GOOG</th>\n",
       "      <th>MSFT</th>\n",
       "      <th>AAPL</th>\n",
       "      <th>AMZN</th>\n",
       "      <th>GOOG</th>\n",
       "      <th>MSFT</th>\n",
       "    </tr>\n",
       "    <tr>\n",
       "      <th>Date</th>\n",
       "      <th></th>\n",
       "      <th></th>\n",
       "      <th></th>\n",
       "      <th></th>\n",
       "      <th></th>\n",
       "      <th></th>\n",
       "      <th></th>\n",
       "      <th></th>\n",
       "      <th></th>\n",
       "      <th></th>\n",
       "      <th></th>\n",
       "      <th></th>\n",
       "      <th></th>\n",
       "      <th></th>\n",
       "      <th></th>\n",
       "      <th></th>\n",
       "      <th></th>\n",
       "      <th></th>\n",
       "      <th></th>\n",
       "      <th></th>\n",
       "      <th></th>\n",
       "    </tr>\n",
       "  </thead>\n",
       "  <tbody>\n",
       "    <tr>\n",
       "      <th>2000-01-03</th>\n",
       "      <td>0.841048</td>\n",
       "      <td>4.468750</td>\n",
       "      <td>NaN</td>\n",
       "      <td>35.726719</td>\n",
       "      <td>0.845274</td>\n",
       "      <td>4.478125</td>\n",
       "      <td>NaN</td>\n",
       "      <td>36.358881</td>\n",
       "      <td>0.764034</td>\n",
       "      <td>3.952344</td>\n",
       "      <td>...</td>\n",
       "      <td>NaN</td>\n",
       "      <td>NaN</td>\n",
       "      <td>NaN</td>\n",
       "      <td>NaN</td>\n",
       "      <td>NaN</td>\n",
       "      <td>NaN</td>\n",
       "      <td>NaN</td>\n",
       "      <td>NaN</td>\n",
       "      <td>NaN</td>\n",
       "      <td>NaN</td>\n",
       "    </tr>\n",
       "    <tr>\n",
       "      <th>2000-01-04</th>\n",
       "      <td>0.770139</td>\n",
       "      <td>4.096875</td>\n",
       "      <td>NaN</td>\n",
       "      <td>34.519867</td>\n",
       "      <td>0.831186</td>\n",
       "      <td>4.575000</td>\n",
       "      <td>NaN</td>\n",
       "      <td>35.899129</td>\n",
       "      <td>0.760277</td>\n",
       "      <td>4.087500</td>\n",
       "      <td>...</td>\n",
       "      <td>NaN</td>\n",
       "      <td>0.966220</td>\n",
       "      <td>0.000000</td>\n",
       "      <td>0.000000</td>\n",
       "      <td>NaN</td>\n",
       "      <td>0.000000</td>\n",
       "      <td>0.000000</td>\n",
       "      <td>0.000000</td>\n",
       "      <td>NaN</td>\n",
       "      <td>0.000000</td>\n",
       "    </tr>\n",
       "    <tr>\n",
       "      <th>2000-01-05</th>\n",
       "      <td>0.781409</td>\n",
       "      <td>3.487500</td>\n",
       "      <td>NaN</td>\n",
       "      <td>34.883839</td>\n",
       "      <td>0.830716</td>\n",
       "      <td>3.756250</td>\n",
       "      <td>NaN</td>\n",
       "      <td>35.669252</td>\n",
       "      <td>0.773895</td>\n",
       "      <td>3.400000</td>\n",
       "      <td>...</td>\n",
       "      <td>NaN</td>\n",
       "      <td>0.976408</td>\n",
       "      <td>0.000000</td>\n",
       "      <td>0.136364</td>\n",
       "      <td>NaN</td>\n",
       "      <td>0.000000</td>\n",
       "      <td>0.000000</td>\n",
       "      <td>0.148741</td>\n",
       "      <td>NaN</td>\n",
       "      <td>0.000000</td>\n",
       "    </tr>\n",
       "    <tr>\n",
       "      <th>2000-01-06</th>\n",
       "      <td>0.713787</td>\n",
       "      <td>3.278125</td>\n",
       "      <td>NaN</td>\n",
       "      <td>33.715305</td>\n",
       "      <td>0.803949</td>\n",
       "      <td>3.634375</td>\n",
       "      <td>NaN</td>\n",
       "      <td>34.903004</td>\n",
       "      <td>0.713787</td>\n",
       "      <td>3.200000</td>\n",
       "      <td>...</td>\n",
       "      <td>NaN</td>\n",
       "      <td>0.976408</td>\n",
       "      <td>0.080402</td>\n",
       "      <td>0.183217</td>\n",
       "      <td>NaN</td>\n",
       "      <td>0.032708</td>\n",
       "      <td>0.086539</td>\n",
       "      <td>0.199847</td>\n",
       "      <td>NaN</td>\n",
       "      <td>0.033498</td>\n",
       "    </tr>\n",
       "    <tr>\n",
       "      <th>2000-01-07</th>\n",
       "      <td>0.747598</td>\n",
       "      <td>3.478125</td>\n",
       "      <td>NaN</td>\n",
       "      <td>34.155895</td>\n",
       "      <td>0.758868</td>\n",
       "      <td>3.525000</td>\n",
       "      <td>NaN</td>\n",
       "      <td>34.404929</td>\n",
       "      <td>0.717544</td>\n",
       "      <td>3.309375</td>\n",
       "      <td>...</td>\n",
       "      <td>NaN</td>\n",
       "      <td>0.976408</td>\n",
       "      <td>0.040201</td>\n",
       "      <td>0.138462</td>\n",
       "      <td>NaN</td>\n",
       "      <td>0.020375</td>\n",
       "      <td>0.043269</td>\n",
       "      <td>0.151030</td>\n",
       "      <td>NaN</td>\n",
       "      <td>0.020868</td>\n",
       "    </tr>\n",
       "    <tr>\n",
       "      <th>...</th>\n",
       "      <td>...</td>\n",
       "      <td>...</td>\n",
       "      <td>...</td>\n",
       "      <td>...</td>\n",
       "      <td>...</td>\n",
       "      <td>...</td>\n",
       "      <td>...</td>\n",
       "      <td>...</td>\n",
       "      <td>...</td>\n",
       "      <td>...</td>\n",
       "      <td>...</td>\n",
       "      <td>...</td>\n",
       "      <td>...</td>\n",
       "      <td>...</td>\n",
       "      <td>...</td>\n",
       "      <td>...</td>\n",
       "      <td>...</td>\n",
       "      <td>...</td>\n",
       "      <td>...</td>\n",
       "      <td>...</td>\n",
       "      <td>...</td>\n",
       "    </tr>\n",
       "    <tr>\n",
       "      <th>2025-06-09</th>\n",
       "      <td>201.449997</td>\n",
       "      <td>216.979996</td>\n",
       "      <td>177.630005</td>\n",
       "      <td>472.750000</td>\n",
       "      <td>206.000000</td>\n",
       "      <td>217.850006</td>\n",
       "      <td>177.914993</td>\n",
       "      <td>473.429993</td>\n",
       "      <td>200.020004</td>\n",
       "      <td>212.880005</td>\n",
       "      <td>...</td>\n",
       "      <td>83.411451</td>\n",
       "      <td>13.232393</td>\n",
       "      <td>67.709194</td>\n",
       "      <td>5.612308</td>\n",
       "      <td>11.912314</td>\n",
       "      <td>0.000000</td>\n",
       "      <td>0.220385</td>\n",
       "      <td>0.103611</td>\n",
       "      <td>0.142814</td>\n",
       "      <td>0.000000</td>\n",
       "    </tr>\n",
       "    <tr>\n",
       "      <th>2025-06-10</th>\n",
       "      <td>202.669998</td>\n",
       "      <td>217.610001</td>\n",
       "      <td>180.009995</td>\n",
       "      <td>470.920013</td>\n",
       "      <td>204.350006</td>\n",
       "      <td>217.690002</td>\n",
       "      <td>182.445007</td>\n",
       "      <td>472.799988</td>\n",
       "      <td>200.570007</td>\n",
       "      <td>214.149994</td>\n",
       "      <td>...</td>\n",
       "      <td>83.411451</td>\n",
       "      <td>13.232393</td>\n",
       "      <td>66.258621</td>\n",
       "      <td>5.471328</td>\n",
       "      <td>10.954327</td>\n",
       "      <td>0.051222</td>\n",
       "      <td>0.215663</td>\n",
       "      <td>0.101008</td>\n",
       "      <td>0.131329</td>\n",
       "      <td>0.003871</td>\n",
       "    </tr>\n",
       "    <tr>\n",
       "      <th>2025-06-11</th>\n",
       "      <td>198.779999</td>\n",
       "      <td>213.199997</td>\n",
       "      <td>178.789993</td>\n",
       "      <td>472.619995</td>\n",
       "      <td>204.500000</td>\n",
       "      <td>218.399994</td>\n",
       "      <td>181.750000</td>\n",
       "      <td>475.470001</td>\n",
       "      <td>198.410004</td>\n",
       "      <td>212.889999</td>\n",
       "      <td>...</td>\n",
       "      <td>83.411451</td>\n",
       "      <td>13.232393</td>\n",
       "      <td>70.883804</td>\n",
       "      <td>6.458182</td>\n",
       "      <td>11.445398</td>\n",
       "      <td>0.003639</td>\n",
       "      <td>0.230718</td>\n",
       "      <td>0.119227</td>\n",
       "      <td>0.137216</td>\n",
       "      <td>0.000275</td>\n",
       "    </tr>\n",
       "    <tr>\n",
       "      <th>2025-06-12</th>\n",
       "      <td>199.199997</td>\n",
       "      <td>213.240005</td>\n",
       "      <td>176.970001</td>\n",
       "      <td>478.869995</td>\n",
       "      <td>199.679993</td>\n",
       "      <td>213.580002</td>\n",
       "      <td>178.130005</td>\n",
       "      <td>480.420013</td>\n",
       "      <td>197.360001</td>\n",
       "      <td>211.330002</td>\n",
       "      <td>...</td>\n",
       "      <td>83.411451</td>\n",
       "      <td>13.403694</td>\n",
       "      <td>70.384429</td>\n",
       "      <td>6.449229</td>\n",
       "      <td>12.177976</td>\n",
       "      <td>0.000000</td>\n",
       "      <td>0.229092</td>\n",
       "      <td>0.119061</td>\n",
       "      <td>0.145999</td>\n",
       "      <td>0.000000</td>\n",
       "    </tr>\n",
       "    <tr>\n",
       "      <th>2025-06-13</th>\n",
       "      <td>196.449997</td>\n",
       "      <td>212.100006</td>\n",
       "      <td>175.880005</td>\n",
       "      <td>474.959991</td>\n",
       "      <td>200.369995</td>\n",
       "      <td>214.050003</td>\n",
       "      <td>178.343002</td>\n",
       "      <td>479.179993</td>\n",
       "      <td>195.699997</td>\n",
       "      <td>209.619995</td>\n",
       "      <td>...</td>\n",
       "      <td>83.411451</td>\n",
       "      <td>13.403694</td>\n",
       "      <td>73.654159</td>\n",
       "      <td>6.704334</td>\n",
       "      <td>12.616719</td>\n",
       "      <td>0.109442</td>\n",
       "      <td>0.239735</td>\n",
       "      <td>0.123771</td>\n",
       "      <td>0.151259</td>\n",
       "      <td>0.008165</td>\n",
       "    </tr>\n",
       "  </tbody>\n",
       "</table>\n",
       "<p>6401 rows × 52 columns</p>\n",
       "</div>"
      ],
      "text/plain": [
       "                 Close                                            High  \\\n",
       "Ticker            AAPL        AMZN        GOOG        MSFT        AAPL   \n",
       "Date                                                                     \n",
       "2000-01-03    0.841048    4.468750         NaN   35.726719    0.845274   \n",
       "2000-01-04    0.770139    4.096875         NaN   34.519867    0.831186   \n",
       "2000-01-05    0.781409    3.487500         NaN   34.883839    0.830716   \n",
       "2000-01-06    0.713787    3.278125         NaN   33.715305    0.803949   \n",
       "2000-01-07    0.747598    3.478125         NaN   34.155895    0.758868   \n",
       "...                ...         ...         ...         ...         ...   \n",
       "2025-06-09  201.449997  216.979996  177.630005  472.750000  206.000000   \n",
       "2025-06-10  202.669998  217.610001  180.009995  470.920013  204.350006   \n",
       "2025-06-11  198.779999  213.199997  178.789993  472.619995  204.500000   \n",
       "2025-06-12  199.199997  213.240005  176.970001  478.869995  199.679993   \n",
       "2025-06-13  196.449997  212.100006  175.880005  474.959991  200.369995   \n",
       "\n",
       "                                                       Low              ...  \\\n",
       "Ticker            AMZN        GOOG        MSFT        AAPL        AMZN  ...   \n",
       "Date                                                                    ...   \n",
       "2000-01-03    4.478125         NaN   36.358881    0.764034    3.952344  ...   \n",
       "2000-01-04    4.575000         NaN   35.899129    0.760277    4.087500  ...   \n",
       "2000-01-05    3.756250         NaN   35.669252    0.773895    3.400000  ...   \n",
       "2000-01-06    3.634375         NaN   34.903004    0.713787    3.200000  ...   \n",
       "2000-01-07    3.525000         NaN   34.404929    0.717544    3.309375  ...   \n",
       "...                ...         ...         ...         ...         ...  ...   \n",
       "2025-06-09  217.850006  177.914993  473.429993  200.020004  212.880005  ...   \n",
       "2025-06-10  217.690002  182.445007  472.799988  200.570007  214.149994  ...   \n",
       "2025-06-11  218.399994  181.750000  475.470001  198.410004  212.889999  ...   \n",
       "2025-06-12  213.580002  178.130005  480.420013  197.360001  211.330002  ...   \n",
       "2025-06-13  214.050003  178.343002  479.179993  195.699997  209.619995  ...   \n",
       "\n",
       "              cum_max              drawdown                                 \\\n",
       "Ticker           GOOG       MSFT       AAPL      AMZN       GOOG      MSFT   \n",
       "Date                                                                         \n",
       "2000-01-03        NaN        NaN        NaN       NaN        NaN       NaN   \n",
       "2000-01-04        NaN   0.966220   0.000000  0.000000        NaN  0.000000   \n",
       "2000-01-05        NaN   0.976408   0.000000  0.136364        NaN  0.000000   \n",
       "2000-01-06        NaN   0.976408   0.080402  0.183217        NaN  0.032708   \n",
       "2000-01-07        NaN   0.976408   0.040201  0.138462        NaN  0.020375   \n",
       "...               ...        ...        ...       ...        ...       ...   \n",
       "2025-06-09  83.411451  13.232393  67.709194  5.612308  11.912314  0.000000   \n",
       "2025-06-10  83.411451  13.232393  66.258621  5.471328  10.954327  0.051222   \n",
       "2025-06-11  83.411451  13.232393  70.883804  6.458182  11.445398  0.003639   \n",
       "2025-06-12  83.411451  13.403694  70.384429  6.449229  12.177976  0.000000   \n",
       "2025-06-13  83.411451  13.403694  73.654159  6.704334  12.616719  0.109442   \n",
       "\n",
       "           drawdown_percent                                \n",
       "Ticker                 AAPL      AMZN      GOOG      MSFT  \n",
       "Date                                                       \n",
       "2000-01-03              NaN       NaN       NaN       NaN  \n",
       "2000-01-04         0.000000  0.000000       NaN  0.000000  \n",
       "2000-01-05         0.000000  0.148741       NaN  0.000000  \n",
       "2000-01-06         0.086539  0.199847       NaN  0.033498  \n",
       "2000-01-07         0.043269  0.151030       NaN  0.020868  \n",
       "...                     ...       ...       ...       ...  \n",
       "2025-06-09         0.220385  0.103611  0.142814  0.000000  \n",
       "2025-06-10         0.215663  0.101008  0.131329  0.003871  \n",
       "2025-06-11         0.230718  0.119227  0.137216  0.000275  \n",
       "2025-06-12         0.229092  0.119061  0.145999  0.000000  \n",
       "2025-06-13         0.239735  0.123771  0.151259  0.008165  \n",
       "\n",
       "[6401 rows x 52 columns]"
      ]
     },
     "execution_count": 3,
     "metadata": {},
     "output_type": "execute_result"
    }
   ],
   "source": [
    "df = functions.transform_df(stock_data)\n",
    "df"
   ]
  },
  {
   "cell_type": "code",
   "execution_count": 4,
   "id": "fb567972",
   "metadata": {},
   "outputs": [
    {
     "name": "stdout",
     "output_type": "stream",
     "text": [
      "Maximum drawdown percent: 0.9290868577417513 \n",
      "Date: 2001-09-28 00:00:00\n"
     ]
    },
    {
     "data": {
      "image/png": "[encoded data removed]",
      "text/plain": [
       "<Figure size 1200x800 with 1 Axes>"
      ]
     },
     "metadata": {},
     "output_type": "display_data"
    }
   ],
   "source": [
    "amazon = functions.retrive_single_ticker(df, 'AMZN')\n",
    "amazon[['cum_return', 'cum_max']].plot(figsize=(12, 8))\n",
    "print(\"Maximum drawdown percent:\", amazon['drawdown_percent'].max(), \"\\nDate:\", amazon['drawdown_percent'].idxmax())"
   ]
  },
  {
   "cell_type": "code",
   "execution_count": 5,
   "id": "c888ad44",
   "metadata": {},
   "outputs": [],
   "source": [
    "def plot_drawdown(data, ticker):\n",
    "    df = functions.retrive_single_ticker(data, ticker)\n",
    "    df[['cum_return', 'cum_max']].plot(figsize=(12, 8))\n",
    "    print(\"Maximum drawdown percent:\", df['drawdown_percent'].max(), \"\\nDate:\", df['drawdown_percent'].idxmax())"
   ]
  },
  {
   "cell_type": "code",
   "execution_count": 6,
   "id": "d392127e",
   "metadata": {},
   "outputs": [
    {
     "name": "stdout",
     "output_type": "stream",
     "text": [
      "Maximum drawdown percent: 0.8180144898543944 \n",
      "Date: 2003-04-17 00:00:00\n"
     ]
    },
    {
     "data": {
      "image/png": "[encoded data removed]",
      "text/plain": [
       "<Figure size 1200x800 with 1 Axes>"
      ]
     },
     "metadata": {},
     "output_type": "display_data"
    }
   ],
   "source": [
    "plot_drawdown(df, 'AAPL')"
   ]
  },
  {
   "cell_type": "code",
   "execution_count": 7,
   "id": "6c5ddc18",
   "metadata": {},
   "outputs": [
    {
     "data": {
      "text/html": [
       "<div>\n",
       "<style scoped>\n",
       "    .dataframe tbody tr th:only-of-type {\n",
       "        vertical-align: middle;\n",
       "    }\n",
       "\n",
       "    .dataframe tbody tr th {\n",
       "        vertical-align: top;\n",
       "    }\n",
       "\n",
       "    .dataframe thead th {\n",
       "        text-align: right;\n",
       "    }\n",
       "</style>\n",
       "<table border=\"1\" class=\"dataframe\">\n",
       "  <thead>\n",
       "    <tr style=\"text-align: right;\">\n",
       "      <th>Ticker</th>\n",
       "      <th>AAPL</th>\n",
       "      <th>AMZN</th>\n",
       "      <th>GOOG</th>\n",
       "      <th>MSFT</th>\n",
       "    </tr>\n",
       "    <tr>\n",
       "      <th>Date</th>\n",
       "      <th></th>\n",
       "      <th></th>\n",
       "      <th></th>\n",
       "      <th></th>\n",
       "    </tr>\n",
       "  </thead>\n",
       "  <tbody>\n",
       "    <tr>\n",
       "      <th>2004-08-20</th>\n",
       "      <td>0.002930</td>\n",
       "      <td>0.022780</td>\n",
       "      <td>0.079430</td>\n",
       "      <td>0.002950</td>\n",
       "    </tr>\n",
       "    <tr>\n",
       "      <th>2004-08-23</th>\n",
       "      <td>0.009091</td>\n",
       "      <td>-0.001519</td>\n",
       "      <td>0.010064</td>\n",
       "      <td>0.004425</td>\n",
       "    </tr>\n",
       "    <tr>\n",
       "      <th>2004-08-24</th>\n",
       "      <td>0.027993</td>\n",
       "      <td>-0.010139</td>\n",
       "      <td>-0.041408</td>\n",
       "      <td>0.000000</td>\n",
       "    </tr>\n",
       "    <tr>\n",
       "      <th>2004-08-25</th>\n",
       "      <td>0.034429</td>\n",
       "      <td>0.032010</td>\n",
       "      <td>0.010775</td>\n",
       "      <td>0.011380</td>\n",
       "    </tr>\n",
       "    <tr>\n",
       "      <th>2004-08-26</th>\n",
       "      <td>0.048714</td>\n",
       "      <td>-0.002730</td>\n",
       "      <td>0.018019</td>\n",
       "      <td>-0.003993</td>\n",
       "    </tr>\n",
       "    <tr>\n",
       "      <th>...</th>\n",
       "      <td>...</td>\n",
       "      <td>...</td>\n",
       "      <td>...</td>\n",
       "      <td>...</td>\n",
       "    </tr>\n",
       "    <tr>\n",
       "      <th>2025-06-09</th>\n",
       "      <td>-0.012113</td>\n",
       "      <td>0.015967</td>\n",
       "      <td>0.016713</td>\n",
       "      <td>0.005038</td>\n",
       "    </tr>\n",
       "    <tr>\n",
       "      <th>2025-06-10</th>\n",
       "      <td>0.006056</td>\n",
       "      <td>0.002904</td>\n",
       "      <td>0.013399</td>\n",
       "      <td>-0.003871</td>\n",
       "    </tr>\n",
       "    <tr>\n",
       "      <th>2025-06-11</th>\n",
       "      <td>-0.019194</td>\n",
       "      <td>-0.020266</td>\n",
       "      <td>-0.006777</td>\n",
       "      <td>0.003610</td>\n",
       "    </tr>\n",
       "    <tr>\n",
       "      <th>2025-06-12</th>\n",
       "      <td>0.002113</td>\n",
       "      <td>0.000188</td>\n",
       "      <td>-0.010179</td>\n",
       "      <td>0.013224</td>\n",
       "    </tr>\n",
       "    <tr>\n",
       "      <th>2025-06-13</th>\n",
       "      <td>-0.013805</td>\n",
       "      <td>-0.005346</td>\n",
       "      <td>-0.006159</td>\n",
       "      <td>-0.008165</td>\n",
       "    </tr>\n",
       "  </tbody>\n",
       "</table>\n",
       "<p>5238 rows × 4 columns</p>\n",
       "</div>"
      ],
      "text/plain": [
       "Ticker          AAPL      AMZN      GOOG      MSFT\n",
       "Date                                              \n",
       "2004-08-20  0.002930  0.022780  0.079430  0.002950\n",
       "2004-08-23  0.009091 -0.001519  0.010064  0.004425\n",
       "2004-08-24  0.027993 -0.010139 -0.041408  0.000000\n",
       "2004-08-25  0.034429  0.032010  0.010775  0.011380\n",
       "2004-08-26  0.048714 -0.002730  0.018019 -0.003993\n",
       "...              ...       ...       ...       ...\n",
       "2025-06-09 -0.012113  0.015967  0.016713  0.005038\n",
       "2025-06-10  0.006056  0.002904  0.013399 -0.003871\n",
       "2025-06-11 -0.019194 -0.020266 -0.006777  0.003610\n",
       "2025-06-12  0.002113  0.000188 -0.010179  0.013224\n",
       "2025-06-13 -0.013805 -0.005346 -0.006159 -0.008165\n",
       "\n",
       "[5238 rows x 4 columns]"
      ]
     },
     "execution_count": 7,
     "metadata": {},
     "output_type": "execute_result"
    }
   ],
   "source": [
    "ret = df['Pct_change'].dropna()\n",
    "ret"
   ]
  },
  {
   "cell_type": "code",
   "execution_count": 8,
   "id": "e85e93e9",
   "metadata": {},
   "outputs": [
    {
     "data": {
      "text/html": [
       "<div>\n",
       "<style scoped>\n",
       "    .dataframe tbody tr th:only-of-type {\n",
       "        vertical-align: middle;\n",
       "    }\n",
       "\n",
       "    .dataframe tbody tr th {\n",
       "        vertical-align: top;\n",
       "    }\n",
       "\n",
       "    .dataframe thead th {\n",
       "        text-align: right;\n",
       "    }\n",
       "</style>\n",
       "<table border=\"1\" class=\"dataframe\">\n",
       "  <thead>\n",
       "    <tr style=\"text-align: right;\">\n",
       "      <th></th>\n",
       "      <th>count</th>\n",
       "      <th>mean</th>\n",
       "      <th>std</th>\n",
       "      <th>min</th>\n",
       "      <th>25%</th>\n",
       "      <th>50%</th>\n",
       "      <th>75%</th>\n",
       "      <th>max</th>\n",
       "    </tr>\n",
       "    <tr>\n",
       "      <th>Ticker</th>\n",
       "      <th></th>\n",
       "      <th></th>\n",
       "      <th></th>\n",
       "      <th></th>\n",
       "      <th></th>\n",
       "      <th></th>\n",
       "      <th></th>\n",
       "      <th></th>\n",
       "    </tr>\n",
       "  </thead>\n",
       "  <tbody>\n",
       "    <tr>\n",
       "      <th>AAPL</th>\n",
       "      <td>1370.0</td>\n",
       "      <td>0.000954</td>\n",
       "      <td>0.020596</td>\n",
       "      <td>-0.128647</td>\n",
       "      <td>-0.008632</td>\n",
       "      <td>0.001149</td>\n",
       "      <td>0.011956</td>\n",
       "      <td>0.153288</td>\n",
       "    </tr>\n",
       "    <tr>\n",
       "      <th>AMZN</th>\n",
       "      <td>1370.0</td>\n",
       "      <td>0.000867</td>\n",
       "      <td>0.022822</td>\n",
       "      <td>-0.140494</td>\n",
       "      <td>-0.011272</td>\n",
       "      <td>0.000680</td>\n",
       "      <td>0.013003</td>\n",
       "      <td>0.135359</td>\n",
       "    </tr>\n",
       "    <tr>\n",
       "      <th>GOOG</th>\n",
       "      <td>1370.0</td>\n",
       "      <td>0.000923</td>\n",
       "      <td>0.020601</td>\n",
       "      <td>-0.111008</td>\n",
       "      <td>-0.009663</td>\n",
       "      <td>0.001991</td>\n",
       "      <td>0.011532</td>\n",
       "      <td>0.099652</td>\n",
       "    </tr>\n",
       "    <tr>\n",
       "      <th>MSFT</th>\n",
       "      <td>1370.0</td>\n",
       "      <td>0.001025</td>\n",
       "      <td>0.019219</td>\n",
       "      <td>-0.147390</td>\n",
       "      <td>-0.008391</td>\n",
       "      <td>0.001129</td>\n",
       "      <td>0.010789</td>\n",
       "      <td>0.142169</td>\n",
       "    </tr>\n",
       "  </tbody>\n",
       "</table>\n",
       "</div>"
      ],
      "text/plain": [
       "         count      mean       std       min       25%       50%       75%  \\\n",
       "Ticker                                                                       \n",
       "AAPL    1370.0  0.000954  0.020596 -0.128647 -0.008632  0.001149  0.011956   \n",
       "AMZN    1370.0  0.000867  0.022822 -0.140494 -0.011272  0.000680  0.013003   \n",
       "GOOG    1370.0  0.000923  0.020601 -0.111008 -0.009663  0.001991  0.011532   \n",
       "MSFT    1370.0  0.001025  0.019219 -0.147390 -0.008391  0.001129  0.010789   \n",
       "\n",
       "             max  \n",
       "Ticker            \n",
       "AAPL    0.153288  \n",
       "AMZN    0.135359  \n",
       "GOOG    0.099652  \n",
       "MSFT    0.142169  "
      ]
     },
     "execution_count": 8,
     "metadata": {},
     "output_type": "execute_result"
    }
   ],
   "source": [
    "summary = ret['2020':].describe().T\n",
    "summary"
   ]
  },
  {
   "cell_type": "code",
   "execution_count": 9,
   "id": "f5b44874",
   "metadata": {},
   "outputs": [],
   "source": [
    "annualized_summary = summary.loc[:, ['mean', 'std']]\n",
    "annualized_summary['mean'] = annualized_summary['mean'] * 252\n",
    "annualized_summary['std'] = annualized_summary['std'] * np.sqrt(252)"
   ]
  },
  {
   "cell_type": "code",
   "execution_count": 10,
   "id": "a9ebe3f2",
   "metadata": {},
   "outputs": [
    {
     "data": {
      "text/html": [
       "<div>\n",
       "<style scoped>\n",
       "    .dataframe tbody tr th:only-of-type {\n",
       "        vertical-align: middle;\n",
       "    }\n",
       "\n",
       "    .dataframe tbody tr th {\n",
       "        vertical-align: top;\n",
       "    }\n",
       "\n",
       "    .dataframe thead th {\n",
       "        text-align: right;\n",
       "    }\n",
       "</style>\n",
       "<table border=\"1\" class=\"dataframe\">\n",
       "  <thead>\n",
       "    <tr style=\"text-align: right;\">\n",
       "      <th></th>\n",
       "      <th>mean</th>\n",
       "      <th>std</th>\n",
       "    </tr>\n",
       "    <tr>\n",
       "      <th>Ticker</th>\n",
       "      <th></th>\n",
       "      <th></th>\n",
       "    </tr>\n",
       "  </thead>\n",
       "  <tbody>\n",
       "    <tr>\n",
       "      <th>AAPL</th>\n",
       "      <td>0.240525</td>\n",
       "      <td>0.326949</td>\n",
       "    </tr>\n",
       "    <tr>\n",
       "      <th>AMZN</th>\n",
       "      <td>0.218405</td>\n",
       "      <td>0.362295</td>\n",
       "    </tr>\n",
       "    <tr>\n",
       "      <th>GOOG</th>\n",
       "      <td>0.232585</td>\n",
       "      <td>0.327038</td>\n",
       "    </tr>\n",
       "    <tr>\n",
       "      <th>MSFT</th>\n",
       "      <td>0.258262</td>\n",
       "      <td>0.305086</td>\n",
       "    </tr>\n",
       "  </tbody>\n",
       "</table>\n",
       "</div>"
      ],
      "text/plain": [
       "            mean       std\n",
       "Ticker                    \n",
       "AAPL    0.240525  0.326949\n",
       "AMZN    0.218405  0.362295\n",
       "GOOG    0.232585  0.327038\n",
       "MSFT    0.258262  0.305086"
      ]
     },
     "execution_count": 10,
     "metadata": {},
     "output_type": "execute_result"
    }
   ],
   "source": [
    "annualized_summary"
   ]
  },
  {
   "cell_type": "code",
   "execution_count": 11,
   "id": "6965cda6",
   "metadata": {},
   "outputs": [
    {
     "data": {
      "image/png": "[encoded data removed]",
      "text/plain": [
       "<Figure size 1200x800 with 1 Axes>"
      ]
     },
     "metadata": {},
     "output_type": "display_data"
    }
   ],
   "source": [
    "# Plot risk vs return\n",
    "fig = plt.figure(figsize=(12, 8))\n",
    "ax = fig.add_subplot(111)\n",
    "\n",
    "ax.scatter(\n",
    "    annualized_summary['std'],\n",
    "    annualized_summary['mean'],\n",
    "    c='red',\n",
    "    s=50\n",
    "    )\n",
    "for x in annualized_summary.index:\n",
    "    ax.annotate(x, xy=(annualized_summary['std'][x] + 0.002, annualized_summary['mean'][x] + 0.002))\n",
    "\n",
    "plt.title(\"Risk vs. return\", fontsize=15)\n",
    "plt.xlabel(\"Risk\", fontsize=15)\n",
    "plt.ylabel(\"Return\", fontsize=15)\n",
    "plt.show()"
   ]
  },
  {
   "cell_type": "code",
   "execution_count": 12,
   "id": "afcdb817",
   "metadata": {},
   "outputs": [
    {
     "data": {
      "text/plain": [
       "Date\n",
       "2020-03-16   -0.128647\n",
       "2020-03-12   -0.098755\n",
       "2025-04-03   -0.092456\n",
       "2020-09-03   -0.080061\n",
       "2020-03-09   -0.079092\n",
       "                ...   \n",
       "2020-03-02    0.093101\n",
       "2020-03-24    0.100325\n",
       "2020-07-31    0.104689\n",
       "2020-03-13    0.119808\n",
       "2025-04-09    0.153288\n",
       "Name: Pct_change, Length: 1370, dtype: float64"
      ]
     },
     "execution_count": 12,
     "metadata": {},
     "output_type": "execute_result"
    }
   ],
   "source": [
    "ret = df.xs('AAPL', level=1, axis=1).loc['2020':,'Pct_change'].dropna()\n",
    "ret.sort_values()"
   ]
  },
  {
   "cell_type": "code",
   "execution_count": 13,
   "id": "2c9a9906",
   "metadata": {},
   "outputs": [
    {
     "data": {
      "text/plain": [
       "<Axes: ylabel='Frequency'>"
      ]
     },
     "execution_count": 13,
     "metadata": {},
     "output_type": "execute_result"
    },
    {
     "data": {
      "image/png": "[encoded data removed]",
      "text/plain": [
       "<Figure size 1200x600 with 1 Axes>"
      ]
     },
     "metadata": {},
     "output_type": "display_data"
    }
   ],
   "source": [
    "ret.plot(kind='hist', bins=100,figsize=(12, 6))"
   ]
  },
  {
   "cell_type": "code",
   "execution_count": 14,
   "id": "8ced4a45",
   "metadata": {},
   "outputs": [],
   "source": [
    "import plotly.express as px"
   ]
  },
  {
   "cell_type": "code",
   "execution_count": 20,
   "id": "c732ae84",
   "metadata": {},
   "outputs": [
    {
     "data": {
      "application/vnd.plotly.v1+json": {
       "config": {
        "plotlyServerURL": "https://plot.ly"
       },
       "data": [
        {
         "bingroup": "x",
         "hovertemplate": "Pct_change=%{x}<br>count=%{y}<extra></extra>",
         "legendgroup": "",
         "marker": {
          "color": "#636efa",
          "pattern": {
           "shape": ""
          }
         },
         "name": "",
         "nbinsx": 100,
         "orientation": "v",
         "showlegend": false,
         "type": "histogram",
         "x": {
          "bdata": "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",
          "dtype": "f8"
         },
         "xaxis": "x",
         "yaxis": "y"
        }
       ],
       "layout": {
        "barmode": "relative",
        "legend": {
         "tracegroupgap": 0
        },
        "margin": {
         "t": 60
        },
        "template": {
         "data": {
          "bar": [
           {
            "error_x": {
             "color": "#2a3f5f"
            },
            "error_y": {
             "color": "#2a3f5f"
            },
            "marker": {
             "line": {
              "color": "#E5ECF6",
              "width": 0.5
             },
             "pattern": {
              "fillmode": "overlay",
              "size": 10,
              "solidity": 0.2
             }
            },
            "type": "bar"
           }
          ],
          "barpolar": [
           {
            "marker": {
             "line": {
              "color": "#E5ECF6",
              "width": 0.5
             },
             "pattern": {
              "fillmode": "overlay",
              "size": 10,
              "solidity": 0.2
             }
            },
            "type": "barpolar"
           }
          ],
          "carpet": [
           {
            "aaxis": {
             "endlinecolor": "#2a3f5f",
             "gridcolor": "white",
             "linecolor": "white",
             "minorgridcolor": "white",
             "startlinecolor": "#2a3f5f"
            },
            "baxis": {
             "endlinecolor": "#2a3f5f",
             "gridcolor": "white",
             "linecolor": "white",
             "minorgridcolor": "white",
             "startlinecolor": "#2a3f5f"
            },
            "type": "carpet"
           }
          ],
          "choropleth": [
           {
            "colorbar": {
             "outlinewidth": 0,
             "ticks": ""
            },
            "type": "choropleth"
           }
          ],
          "contour": [
           {
            "colorbar": {
             "outlinewidth": 0,
             "ticks": ""
            },
            "colorscale": [
             [
              0,
              "#0d0887"
             ],
             [
              0.1111111111111111,
              "#46039f"
             ],
             [
              0.2222222222222222,
              "#7201a8"
             ],
             [
              0.3333333333333333,
              "#9c179e"
             ],
             [
              0.4444444444444444,
              "#bd3786"
             ],
             [
              0.5555555555555556,
              "#d8576b"
             ],
             [
              0.6666666666666666,
              "#ed7953"
             ],
             [
              0.7777777777777778,
              "#fb9f3a"
             ],
             [
              0.8888888888888888,
              "#fdca26"
             ],
             [
              1,
              "#f0f921"
             ]
            ],
            "type": "contour"
           }
          ],
          "contourcarpet": [
           {
            "colorbar": {
             "outlinewidth": 0,
             "ticks": ""
            },
            "type": "contourcarpet"
           }
          ],
          "heatmap": [
           {
            "colorbar": {
             "outlinewidth": 0,
             "ticks": ""
            },
            "colorscale": [
             [
              0,
              "#0d0887"
             ],
             [
              0.1111111111111111,
              "#46039f"
             ],
             [
              0.2222222222222222,
              "#7201a8"
             ],
             [
              0.3333333333333333,
              "#9c179e"
             ],
             [
              0.4444444444444444,
              "#bd3786"
             ],
             [
              0.5555555555555556,
              "#d8576b"
             ],
             [
              0.6666666666666666,
              "#ed7953"
             ],
             [
              0.7777777777777778,
              "#fb9f3a"
             ],
             [
              0.8888888888888888,
              "#fdca26"
             ],
             [
              1,
              "#f0f921"
             ]
            ],
            "type": "heatmap"
           }
          ],
          "histogram": [
           {
            "marker": {
             "pattern": {
              "fillmode": "overlay",
              "size": 10,
              "solidity": 0.2
             }
            },
            "type": "histogram"
           }
          ],
          "histogram2d": [
           {
            "colorbar": {
             "outlinewidth": 0,
             "ticks": ""
            },
            "colorscale": [
             [
              0,
              "#0d0887"
             ],
             [
              0.1111111111111111,
              "#46039f"
             ],
             [
              0.2222222222222222,
              "#7201a8"
             ],
             [
              0.3333333333333333,
              "#9c179e"
             ],
             [
              0.4444444444444444,
              "#bd3786"
             ],
             [
              0.5555555555555556,
              "#d8576b"
             ],
             [
              0.6666666666666666,
              "#ed7953"
             ],
             [
              0.7777777777777778,
              "#fb9f3a"
             ],
             [
              0.8888888888888888,
              "#fdca26"
             ],
             [
              1,
              "#f0f921"
             ]
            ],
            "type": "histogram2d"
           }
          ],
          "histogram2dcontour": [
           {
            "colorbar": {
             "outlinewidth": 0,
             "ticks": ""
            },
            "colorscale": [
             [
              0,
              "#0d0887"
             ],
             [
              0.1111111111111111,
              "#46039f"
             ],
             [
              0.2222222222222222,
              "#7201a8"
             ],
             [
              0.3333333333333333,
              "#9c179e"
             ],
             [
              0.4444444444444444,
              "#bd3786"
             ],
             [
              0.5555555555555556,
              "#d8576b"
             ],
             [
              0.6666666666666666,
              "#ed7953"
             ],
             [
              0.7777777777777778,
              "#fb9f3a"
             ],
             [
              0.8888888888888888,
              "#fdca26"
             ],
             [
              1,
              "#f0f921"
             ]
            ],
            "type": "histogram2dcontour"
           }
          ],
          "mesh3d": [
           {
            "colorbar": {
             "outlinewidth": 0,
             "ticks": ""
            },
            "type": "mesh3d"
           }
          ],
          "parcoords": [
           {
            "line": {
             "colorbar": {
              "outlinewidth": 0,
              "ticks": ""
             }
            },
            "type": "parcoords"
           }
          ],
          "pie": [
           {
            "automargin": true,
            "type": "pie"
           }
          ],
          "scatter": [
           {
            "fillpattern": {
             "fillmode": "overlay",
             "size": 10,
             "solidity": 0.2
            },
            "type": "scatter"
           }
          ],
          "scatter3d": [
           {
            "line": {
             "colorbar": {
              "outlinewidth": 0,
              "ticks": ""
             }
            },
            "marker": {
             "colorbar": {
              "outlinewidth": 0,
              "ticks": ""
             }
            },
            "type": "scatter3d"
           }
          ],
          "scattercarpet": [
           {
            "marker": {
             "colorbar": {
              "outlinewidth": 0,
              "ticks": ""
             }
            },
            "type": "scattercarpet"
           }
          ],
          "scattergeo": [
           {
            "marker": {
             "colorbar": {
              "outlinewidth": 0,
              "ticks": ""
             }
            },
            "type": "scattergeo"
           }
          ],
          "scattergl": [
           {
            "marker": {
             "colorbar": {
              "outlinewidth": 0,
              "ticks": ""
             }
            },
            "type": "scattergl"
           }
          ],
          "scattermap": [
           {
            "marker": {
             "colorbar": {
              "outlinewidth": 0,
              "ticks": ""
             }
            },
            "type": "scattermap"
           }
          ],
          "scattermapbox": [
           {
            "marker": {
             "colorbar": {
              "outlinewidth": 0,
              "ticks": ""
             }
            },
            "type": "scattermapbox"
           }
          ],
          "scatterpolar": [
           {
            "marker": {
             "colorbar": {
              "outlinewidth": 0,
              "ticks": ""
             }
            },
            "type": "scatterpolar"
           }
          ],
          "scatterpolargl": [
           {
            "marker": {
             "colorbar": {
              "outlinewidth": 0,
              "ticks": ""
             }
            },
            "type": "scatterpolargl"
           }
          ],
          "scatterternary": [
           {
            "marker": {
             "colorbar": {
              "outlinewidth": 0,
              "ticks": ""
             }
            },
            "type": "scatterternary"
           }
          ],
          "surface": [
           {
            "colorbar": {
             "outlinewidth": 0,
             "ticks": ""
            },
            "colorscale": [
             [
              0,
              "#0d0887"
             ],
             [
              0.1111111111111111,
              "#46039f"
             ],
             [
              0.2222222222222222,
              "#7201a8"
             ],
             [
              0.3333333333333333,
              "#9c179e"
             ],
             [
              0.4444444444444444,
              "#bd3786"
             ],
             [
              0.5555555555555556,
              "#d8576b"
             ],
             [
              0.6666666666666666,
              "#ed7953"
             ],
             [
              0.7777777777777778,
              "#fb9f3a"
             ],
             [
              0.8888888888888888,
              "#fdca26"
             ],
             [
              1,
              "#f0f921"
             ]
            ],
            "type": "surface"
           }
          ],
          "table": [
           {
            "cells": {
             "fill": {
              "color": "#EBF0F8"
             },
             "line": {
              "color": "white"
             }
            },
            "header": {
             "fill": {
              "color": "#C8D4E3"
             },
             "line": {
              "color": "white"
             }
            },
            "type": "table"
           }
          ]
         },
         "layout": {
          "annotationdefaults": {
           "arrowcolor": "#2a3f5f",
           "arrowhead": 0,
           "arrowwidth": 1
          },
          "autotypenumbers": "strict",
          "coloraxis": {
           "colorbar": {
            "outlinewidth": 0,
            "ticks": ""
           }
          },
          "colorscale": {
           "diverging": [
            [
             0,
             "#8e0152"
            ],
            [
             0.1,
             "#c51b7d"
            ],
            [
             0.2,
             "#de77ae"
            ],
            [
             0.3,
             "#f1b6da"
            ],
            [
             0.4,
             "#fde0ef"
            ],
            [
             0.5,
             "#f7f7f7"
            ],
            [
             0.6,
             "#e6f5d0"
            ],
            [
             0.7,
             "#b8e186"
            ],
            [
             0.8,
             "#7fbc41"
            ],
            [
             0.9,
             "#4d9221"
            ],
            [
             1,
             "#276419"
            ]
           ],
           "sequential": [
            [
             0,
             "#0d0887"
            ],
            [
             0.1111111111111111,
             "#46039f"
            ],
            [
             0.2222222222222222,
             "#7201a8"
            ],
            [
             0.3333333333333333,
             "#9c179e"
            ],
            [
             0.4444444444444444,
             "#bd3786"
            ],
            [
             0.5555555555555556,
             "#d8576b"
            ],
            [
             0.6666666666666666,
             "#ed7953"
            ],
            [
             0.7777777777777778,
             "#fb9f3a"
            ],
            [
             0.8888888888888888,
             "#fdca26"
            ],
            [
             1,
             "#f0f921"
            ]
           ],
           "sequentialminus": [
            [
             0,
             "#0d0887"
            ],
            [
             0.1111111111111111,
             "#46039f"
            ],
            [
             0.2222222222222222,
             "#7201a8"
            ],
            [
             0.3333333333333333,
             "#9c179e"
            ],
            [
             0.4444444444444444,
             "#bd3786"
            ],
            [
             0.5555555555555556,
             "#d8576b"
            ],
            [
             0.6666666666666666,
             "#ed7953"
            ],
            [
             0.7777777777777778,
             "#fb9f3a"
            ],
            [
             0.8888888888888888,
             "#fdca26"
            ],
            [
             1,
             "#f0f921"
            ]
           ]
          },
          "colorway": [
           "#636efa",
           "#EF553B",
           "#00cc96",
           "#ab63fa",
           "#FFA15A",
           "#19d3f3",
           "#FF6692",
           "#B6E880",
           "#FF97FF",
           "#FECB52"
          ],
          "font": {
           "color": "#2a3f5f"
          },
          "geo": {
           "bgcolor": "white",
           "lakecolor": "white",
           "landcolor": "#E5ECF6",
           "showlakes": true,
           "showland": true,
           "subunitcolor": "white"
          },
          "hoverlabel": {
           "align": "left"
          },
          "hovermode": "closest",
          "mapbox": {
           "style": "light"
          },
          "paper_bgcolor": "white",
          "plot_bgcolor": "#E5ECF6",
          "polar": {
           "angularaxis": {
            "gridcolor": "white",
            "linecolor": "white",
            "ticks": ""
           },
           "bgcolor": "#E5ECF6",
           "radialaxis": {
            "gridcolor": "white",
            "linecolor": "white",
            "ticks": ""
           }
          },
          "scene": {
           "xaxis": {
            "backgroundcolor": "#E5ECF6",
            "gridcolor": "white",
            "gridwidth": 2,
            "linecolor": "white",
            "showbackground": true,
            "ticks": "",
            "zerolinecolor": "white"
           },
           "yaxis": {
            "backgroundcolor": "#E5ECF6",
            "gridcolor": "white",
            "gridwidth": 2,
            "linecolor": "white",
            "showbackground": true,
            "ticks": "",
            "zerolinecolor": "white"
           },
           "zaxis": {
            "backgroundcolor": "#E5ECF6",
            "gridcolor": "white",
            "gridwidth": 2,
            "linecolor": "white",
            "showbackground": true,
            "ticks": "",
            "zerolinecolor": "white"
           }
          },
          "shapedefaults": {
           "line": {
            "color": "#2a3f5f"
           }
          },
          "ternary": {
           "aaxis": {
            "gridcolor": "white",
            "linecolor": "white",
            "ticks": ""
           },
           "baxis": {
            "gridcolor": "white",
            "linecolor": "white",
            "ticks": ""
           },
           "bgcolor": "#E5ECF6",
           "caxis": {
            "gridcolor": "white",
            "linecolor": "white",
            "ticks": ""
           }
          },
          "title": {
           "x": 0.05
          },
          "xaxis": {
           "automargin": true,
           "gridcolor": "white",
           "linecolor": "white",
           "ticks": "",
           "title": {
            "standoff": 15
           },
           "zerolinecolor": "white",
           "zerolinewidth": 2
          },
          "yaxis": {
           "automargin": true,
           "gridcolor": "white",
           "linecolor": "white",
           "ticks": "",
           "title": {
            "standoff": 15
           },
           "zerolinecolor": "white",
           "zerolinewidth": 2
          }
         }
        },
        "xaxis": {
         "anchor": "y",
         "domain": [
          0,
          1
         ],
         "title": {
          "text": "Pct_change"
         }
        },
        "yaxis": {
         "anchor": "x",
         "domain": [
          0,
          1
         ],
         "title": {
          "text": "count"
         }
        }
       }
      }
     },
     "metadata": {},
     "output_type": "display_data"
    }
   ],
   "source": [
    "px.histogram(ret, nbins=100, x='Pct_change')"
   ]
  },
  {
   "cell_type": "code",
   "execution_count": null,
   "id": "a982da19",
   "metadata": {},
   "outputs": [],
   "source": []
  }
 ],
 "metadata": {
  "kernelspec": {
   "display_name": ".venv",
   "language": "python",
   "name": "python3"
  },
  "language_info": {
   "codemirror_mode": {
    "name": "ipython",
    "version": 3
   },
   "file_extension": ".py",
   "mimetype": "text/x-python",
   "name": "python",
   "nbconvert_exporter": "python",
   "pygments_lexer": "ipython3",
   "version": "3.12.3"
  }
 },
 "nbformat": 4,
 "nbformat_minor": 5
}
